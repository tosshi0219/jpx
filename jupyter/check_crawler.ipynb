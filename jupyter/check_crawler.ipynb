{
 "cells": [
  {
   "cell_type": "code",
   "execution_count": 1,
   "metadata": {},
   "outputs": [],
   "source": [
    "from jpx.jpxconfig import jpxdb_path, tmp_dir\n",
    "from jpx.crawler import *\n",
    "from sqlite_pandas.models import sqlite_pandas as sp"
   ]
  },
  {
   "cell_type": "code",
   "execution_count": 2,
   "metadata": {},
   "outputs": [],
   "source": [
    "# -*- coding: utf-8 -*-\n",
    "from selenium import webdriver\n",
    "import chromedriver_binary\n",
    "\n",
    "from selenium.webdriver.common.by import By\n",
    "from selenium.webdriver.support import expected_conditions as EC\n",
    "from selenium.webdriver.support.ui import WebDriverWait\n",
    "from selenium.webdriver.common.action_chains import ActionChains\n",
    "\n",
    "options = webdriver.ChromeOptions()\n",
    "options.add_argument(\"--headless\")\n",
    "options.add_argument('--disable-extensions')       # すべての拡張機能を無効にする。ユーザースクリプトも無効にする\n",
    "options.add_argument('--proxy-server=\"direct://\"') # Proxy経由ではなく直接接続する\n",
    "options.add_argument('--proxy-bypass-list=*')      # すべてのホスト名\n",
    "prefs = {'download.default_directory' : tmp_dir}  #defalutのダウンロード先の設定\n",
    "options.add_experimental_option('prefs',prefs)\n",
    "# options.add_argument('--no-sandbox')\n",
    "# options.add_argument(\"--single-process\")\n",
    "# options.add_argument(\"--disable-application-cache\")\n",
    "# options.add_argument('--disable-dev-shm-usage')\n",
    "driver = webdriver.Chrome(options=options)"
   ]
  },
  {
   "cell_type": "code",
   "execution_count": 3,
   "metadata": {},
   "outputs": [
    {
     "name": "stdout",
     "output_type": "stream",
     "text": [
      "JPX統計資料画面にアクセス\n",
      "東証上場銘柄一覧（2020年9月末）ダウンロード完了\n"
     ]
    }
   ],
   "source": [
    "driver = access_home(driver)\n",
    "download_codelist(driver)"
   ]
  },
  {
   "cell_type": "code",
   "execution_count": 4,
   "metadata": {},
   "outputs": [],
   "source": [
    "driver.quit()"
   ]
  },
  {
   "cell_type": "code",
   "execution_count": null,
   "metadata": {},
   "outputs": [],
   "source": []
  }
 ],
 "metadata": {
  "kernelspec": {
   "display_name": "Python 3",
   "language": "python",
   "name": "python3"
  },
  "language_info": {
   "codemirror_mode": {
    "name": "ipython",
    "version": 3
   },
   "file_extension": ".py",
   "mimetype": "text/x-python",
   "name": "python",
   "nbconvert_exporter": "python",
   "pygments_lexer": "ipython3",
   "version": "3.6.8"
  }
 },
 "nbformat": 4,
 "nbformat_minor": 4
}
